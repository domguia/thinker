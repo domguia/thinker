{
  "cells": [
    {
      "cell_type": "markdown",
      "source": [
        "# Get dependencies"
      ],
      "metadata": {
        "id": "zf-tOCydjeA9"
      }
    },
    {
      "cell_type": "code",
      "execution_count": 1,
      "metadata": {
        "colab": {
          "base_uri": "https://localhost:8080/"
        },
        "id": "eYSfMRGzmtHi",
        "outputId": "40189d1f-9fc6-446d-cf99-eaf30dee5bb7"
      },
      "outputs": [
        {
          "output_type": "stream",
          "name": "stdout",
          "text": [
            "Cloning into 'thinker'...\n",
            "remote: Enumerating objects: 250, done.\u001b[K\n",
            "remote: Counting objects: 100% (20/20), done.\u001b[K\n",
            "remote: Compressing objects: 100% (12/12), done.\u001b[K\n",
            "remote: Total 250 (delta 11), reused 15 (delta 8), pack-reused 230\u001b[K\n",
            "Receiving objects: 100% (250/250), 1.93 MiB | 17.17 MiB/s, done.\n",
            "Resolving deltas: 100% (124/124), done.\n"
          ]
        }
      ],
      "source": [
        "!git clone https://github.com/domguia/thinker"
      ]
    },
    {
      "cell_type": "code",
      "execution_count": 2,
      "metadata": {
        "id": "hGnKk0U6LGOh",
        "colab": {
          "base_uri": "https://localhost:8080/"
        },
        "outputId": "0461e1b2-d61a-4e55-8d82-97e2ca220415"
      },
      "outputs": [
        {
          "output_type": "stream",
          "name": "stdout",
          "text": [
            "\u001b[2K     \u001b[90m━━━━━━━━━━━━━━━━━━━━━━━━━━━━━━━━━━━━━━━━\u001b[0m \u001b[32m2.0/2.0 MB\u001b[0m \u001b[31m14.6 MB/s\u001b[0m eta \u001b[36m0:00:00\u001b[0m\n",
            "\u001b[2K     \u001b[90m━━━━━━━━━━━━━━━━━━━━━━━━━━━━━━━━━━━━━━━━\u001b[0m \u001b[32m806.1/806.1 kB\u001b[0m \u001b[31m24.3 MB/s\u001b[0m eta \u001b[36m0:00:00\u001b[0m\n",
            "\u001b[2K     \u001b[90m━━━━━━━━━━━━━━━━━━━━━━━━━━━━━━━━━━━━━━━━\u001b[0m \u001b[32m777.7/777.7 kB\u001b[0m \u001b[31m32.9 MB/s\u001b[0m eta \u001b[36m0:00:00\u001b[0m\n",
            "\u001b[?25h"
          ]
        }
      ],
      "source": [
        "pip install -q torchinfo lightning torchmetrics"
      ]
    },
    {
      "cell_type": "code",
      "execution_count": 3,
      "metadata": {
        "id": "Tn2EZmDz7pOB"
      },
      "outputs": [],
      "source": [
        "# pip install torch_xla cloud-tpu-client https://storage.googleapis.com/tpu-pytorch/wheels/colab/torch_xla-2.0-cp310-cp310-linux_x86_64.whl"
      ]
    },
    {
      "cell_type": "code",
      "execution_count": null,
      "metadata": {
        "id": "wVvy9iXQnVEV"
      },
      "outputs": [],
      "source": [
        "# Load the TensorBoard notebook extension\n",
        "%load_ext tensorboard"
      ]
    },
    {
      "cell_type": "code",
      "execution_count": null,
      "metadata": {
        "id": "GWFVPiRtnC1X"
      },
      "outputs": [],
      "source": [
        "%tensorboard --logdir /content/thinker/lightning_logs/"
      ]
    },
    {
      "cell_type": "code",
      "execution_count": null,
      "metadata": {
        "colab": {
          "base_uri": "https://localhost:8080/"
        },
        "id": "VhcVabRfO0XC",
        "outputId": "b94b8953-7d8d-467f-b980-573c3dd83c16"
      },
      "outputs": [
        {
          "name": "stdout",
          "output_type": "stream",
          "text": [
            "/content/thinker\n"
          ]
        }
      ],
      "source": [
        "%cd /content/thinker"
      ]
    },
    {
      "cell_type": "code",
      "execution_count": null,
      "metadata": {
        "id": "YHN5to7RmtH8"
      },
      "outputs": [],
      "source": [
        "# %run th1nker_run_lightning.py"
      ]
    },
    {
      "cell_type": "code",
      "execution_count": null,
      "metadata": {
        "colab": {
          "base_uri": "https://localhost:8080/"
        },
        "id": "xDv4GXsu7ClU",
        "outputId": "973c6a42-8b4c-4d18-a86d-c0e3ac0d3100"
      },
      "outputs": [
        {
          "output_type": "stream",
          "name": "stdout",
          "text": [
            "remote: Enumerating objects: 5, done.\u001b[K\n",
            "remote: Counting objects:  20% (1/5)\u001b[K\rremote: Counting objects:  40% (2/5)\u001b[K\rremote: Counting objects:  60% (3/5)\u001b[K\rremote: Counting objects:  80% (4/5)\u001b[K\rremote: Counting objects: 100% (5/5)\u001b[K\rremote: Counting objects: 100% (5/5), done.\u001b[K\n",
            "remote: Compressing objects: 100% (1/1)\u001b[K\rremote: Compressing objects: 100% (1/1), done.\u001b[K\n",
            "remote: Total 3 (delta 2), reused 3 (delta 2), pack-reused 0\u001b[K\n",
            "Unpacking objects:  33% (1/3)\rUnpacking objects:  66% (2/3)\rUnpacking objects: 100% (3/3)\rUnpacking objects: 100% (3/3), 408 bytes | 408.00 KiB/s, done.\n",
            "From https://github.com/domguia/thinker\n",
            "   29ce185..3e1d149  main       -> origin/main\n",
            "Updating 29ce185..3e1d149\n",
            "Fast-forward\n",
            " numbers_data.py | 11 \u001b[32m+++++++++++\u001b[m\n",
            " 1 file changed, 11 insertions(+)\n"
          ]
        }
      ],
      "source": [
        "!git pull"
      ]
    },
    {
      "cell_type": "code",
      "execution_count": null,
      "metadata": {
        "id": "DQ2B-Ork9aOE"
      },
      "outputs": [],
      "source": [
        "# pip show torch_xla"
      ]
    },
    {
      "cell_type": "code",
      "execution_count": null,
      "metadata": {
        "id": "b1EAyddSomBD"
      },
      "outputs": [],
      "source": [
        "# import torch\n",
        "# import numpy as np\n",
        "# import lightning as L\n",
        "# from torch.utils.data import DataLoader\n",
        "\n",
        "# from thinker_model import Th1nker, compute_loss, CfgNode\n",
        "# from toy_model import ToyThinker\n",
        "# from numbers_data import NumbersComputeDataset\n",
        "\n",
        "# from torchmetrics.classification import Accuracy\n",
        "\n",
        "# model_cfg = CfgNode(\n",
        "#     # hdim = 32,\n",
        "#     # head_size = 4,\n",
        "#     # number_of_head= 8,\n",
        "#     # resid_pdrop = 0.1,\n",
        "#     # attn_pdrop = 0.1,\n",
        "#     # bias=False,\n",
        "\n",
        "#     # vocab_size = 31+1,\n",
        "\n",
        "#     # input_cache_size = 24,\n",
        "#     # mem_cache_size = 128,\n",
        "#     # max_output_len = 24,\n",
        "\n",
        "#     vocab_size = 31+1,\n",
        "#     max_latent=64,\n",
        "#     max_input_len=48,\n",
        "#     output_len=40,\n",
        "#     d_model=32,\n",
        "#     nhead=8,\n",
        "#     d_hid=32*4,\n",
        "#     nlayers=1,\n",
        "#     dropout=0\n",
        "# )\n",
        "\n",
        "# data_cfg = CfgNode(batch=2, step=2, max_number=1_000, operations='+-*/', operation_dist=[0,0,1.0,0],\n",
        "#     in_bases=[16], in_bases_dist=None, # [2,4,8,16] # list(range(2,8+1))\n",
        "#     out_bases=[16], out_bases_dist=None, # [.1,.2,.3,.4])\n",
        "# )\n",
        "\n",
        "# run_cfg = CfgNode(\n",
        "#     n_latent = 8, # range(4,8)\n",
        "#     n_step=4, # range(1,4)\n",
        "\n",
        "#     max_iter=2000,\n",
        "#     learning_rate=0.005,\n",
        "#     batch = 1*1024,\n",
        "# )\n",
        "\n",
        "# exp_cfg = CfgNode(\n",
        "#     n_latent = range(4,8+1),\n",
        "#     n_step = range(1,4+1),\n",
        "# )\n",
        "\n",
        "# # define the LightningModule\n",
        "# class LitTh1nker(L.LightningModule):\n",
        "#     def __init__(self, model_cfg, run_cfg):\n",
        "#         super().__init__()\n",
        "#         self.model = ToyThinker(**model_cfg.__dict__)\n",
        "#         self.accuracy = Accuracy(task=\"multiclass\", num_classes=model_cfg.vocab_size)\n",
        "#         self.cfg = run_cfg\n",
        "#         self.save_hyperparameters(model_cfg.__dict__)\n",
        "#         self.save_hyperparameters(run_cfg.__dict__)\n",
        "\n",
        "#     def training_step(self, batch, batch_idx):\n",
        "#         # training_step defines the train loop.\n",
        "#         # it is independent of forward\n",
        "#         inputs, targets = batch\n",
        "#         inputs, targets = inputs[0], targets[0] # implicit batch trick\n",
        "\n",
        "#         B, T = inputs.size()\n",
        "\n",
        "#         n_step = self.cfg.sample('n_step')\n",
        "#         n_latent = self.cfg.sample('n_latent')\n",
        "\n",
        "#         n_target = targets.size(1)\n",
        "#         logits, output_probe = self.model(inputs, n_latent, n_target, n_step)\n",
        "#         logits, output_probe = logits[:,0,:,:], output_probe[:,0,:,0] # .permute(0,-1,1,2) or (0,3,1,2)\n",
        "\n",
        "#         # compute loss\n",
        "#         output_loss = torch.nn.functional.cross_entropy(logits.permute(0,2,1), targets.long())#, ignore_index=20)\n",
        "#         probe_loss = torch.nn.functional.mse_loss(output_probe, targets.float()/3)\n",
        "\n",
        "\n",
        "#         loss = output_loss + probe_loss\n",
        "\n",
        "#         preds = torch.argmax(logits, dim=2)\n",
        "#         self.log('accuracy', self.accuracy(preds, targets))\n",
        "\n",
        "#         # Logging to TensorBoard (if installed) by default\n",
        "#         # self.log(\"step\", B*batch_idx) # for weight and bias\n",
        "#         self.log(\"sample\", B*batch_idx*1.0)\n",
        "#         # self.log(\"batch_idx\", batch_idx)\n",
        "#         self.log(\"output_loss\", output_loss)\n",
        "#         self.log(\"outputs_probe_loss\", probe_loss)\n",
        "#         self.log(\"train_loss\", loss)\n",
        "#         return loss\n",
        "\n",
        "#     def configure_optimizers(self):\n",
        "#         optimizer = torch.optim.Adam(self.parameters(), lr=0.005)\n",
        "#         return optimizer\n",
        "\n",
        "#     # def forward(self, x):\n",
        "#     #     return self.model(x)\n",
        "\n",
        "# # init the autoencoder\n",
        "# model = LitTh1nker(model_cfg, run_cfg)\n",
        "\n",
        "# # init data loader\n",
        "# data_cfg.batch = run_cfg.batch # implicit batch trick\n",
        "# batch_size = 1\n",
        "\n",
        "# dataset = NumbersComputeDataset(data_cfg)\n",
        "# dataloader = DataLoader(dataset, batch_size=batch_size, num_workers=4)\n",
        "\n",
        "# from lightning.pytorch.callbacks import DeviceStatsMonitor\n",
        "\n",
        "# # train the model (hint: here are some helpful Trainer arguments for rapid idea iteration)\n",
        "# # gradient_clip_val=0.5, accumulate_grad_batches=1, auto_lr_find=True\n",
        "# trainer = L.Trainer(\n",
        "#     limit_train_batches=run_cfg.max_iter,\n",
        "#     max_epochs=1,\n",
        "#     # accelerator=\"tpu\", devices=1,\n",
        "#     # auto_lr_find=True,\n",
        "#     precision=16,\n",
        "#     # profiler=\"simple\",\n",
        "#     callbacks=[DeviceStatsMonitor()]\n",
        "# )\n",
        "# # ,precision=16, profiler=\"simple\" | \"pytorch\"\n",
        "# trainer.fit(model=model, train_dataloaders=dataloader)"
      ]
    },
    {
      "cell_type": "code",
      "execution_count": null,
      "metadata": {
        "id": "Nu8gvwMfuUPT"
      },
      "outputs": [],
      "source": [
        "# model_cfg.sample('n_step')\n",
        "# isinstance('n_step', str)\n",
        "# model_cfg.sample"
      ]
    },
    {
      "cell_type": "code",
      "execution_count": null,
      "metadata": {
        "id": "NaR_ykBkGPom",
        "colab": {
          "base_uri": "https://localhost:8080/",
          "height": 245
        },
        "outputId": "f512e383-4df3-43e7-ca8b-348c79274db0"
      },
      "outputs": [
        {
          "output_type": "error",
          "ename": "NameError",
          "evalue": "ignored",
          "traceback": [
            "\u001b[0;31m---------------------------------------------------------------------------\u001b[0m",
            "\u001b[0;31mNameError\u001b[0m                                 Traceback (most recent call last)",
            "\u001b[0;32m<ipython-input-373-94a884db51b2>\u001b[0m in \u001b[0;36m<cell line: 1>\u001b[0;34m()\u001b[0m\n\u001b[0;32m----> 1\u001b[0;31m \u001b[0;32mclass\u001b[0m \u001b[0mCopyDataModule\u001b[0m\u001b[0;34m(\u001b[0m\u001b[0mL\u001b[0m\u001b[0;34m.\u001b[0m\u001b[0mLightningDataModule\u001b[0m\u001b[0;34m)\u001b[0m\u001b[0;34m:\u001b[0m\u001b[0;34m\u001b[0m\u001b[0;34m\u001b[0m\u001b[0m\n\u001b[0m\u001b[1;32m      2\u001b[0m     \u001b[0;32mdef\u001b[0m \u001b[0m__init__\u001b[0m\u001b[0;34m(\u001b[0m\u001b[0mself\u001b[0m\u001b[0;34m,\u001b[0m \u001b[0mcfg\u001b[0m\u001b[0;34m)\u001b[0m\u001b[0;34m:\u001b[0m\u001b[0;34m\u001b[0m\u001b[0;34m\u001b[0m\u001b[0m\n\u001b[1;32m      3\u001b[0m         \u001b[0msuper\u001b[0m\u001b[0;34m(\u001b[0m\u001b[0;34m)\u001b[0m\u001b[0;34m.\u001b[0m\u001b[0m__init__\u001b[0m\u001b[0;34m(\u001b[0m\u001b[0;34m)\u001b[0m\u001b[0;34m\u001b[0m\u001b[0;34m\u001b[0m\u001b[0m\n\u001b[1;32m      4\u001b[0m         \u001b[0mself\u001b[0m\u001b[0;34m.\u001b[0m\u001b[0mcfg\u001b[0m \u001b[0;34m=\u001b[0m \u001b[0mcfg\u001b[0m\u001b[0;34m\u001b[0m\u001b[0;34m\u001b[0m\u001b[0m\n\u001b[1;32m      5\u001b[0m \u001b[0;34m\u001b[0m\u001b[0m\n",
            "\u001b[0;31mNameError\u001b[0m: name 'L' is not defined"
          ]
        }
      ],
      "source": [
        "class CopyDataModule(L.LightningDataModule):\n",
        "    def __init__(self, cfg):\n",
        "        super().__init__()\n",
        "        self.cfg = cfg\n",
        "\n",
        "    def setup(self, stage: str):\n",
        "        self.dataset = Num\n",
        "\n",
        "    def train_dataloader(self):\n",
        "        return DataLoader(self.dataset, batch_size=self.cfg.batch)\n",
        "\n",
        "    def val_dataloader(self):\n",
        "        return DataLoader(self.dataset, batch_size=self.cfg.batch)\n",
        "\n",
        "    def test_dataloader(self):\n",
        "        return DataLoader(self.dataset, batch_size=self.cfg.batch)\n",
        "\n",
        "    def predict_dataloader(self):\n",
        "        return DataLoader(self.dataset, batch_size=self.cfg.batch)\n",
        "\n",
        "    # def teardown(self, stage: str):\n",
        "    #     # Used to clean-up when the run is finished"
      ]
    },
    {
      "cell_type": "code",
      "execution_count": null,
      "metadata": {
        "id": "v1riXsmE_jZO"
      },
      "outputs": [],
      "source": [
        "# import torch\n",
        "# torch.__version__\n",
        "\n",
        "# import torch_xla"
      ]
    },
    {
      "cell_type": "code",
      "execution_count": null,
      "metadata": {
        "id": "GosyxNA834GK"
      },
      "outputs": [],
      "source": [
        "# from lightning.pytorch.tuner import Tuner\n",
        "# tuner = Tuner(trainer)\n",
        "\n",
        "# # Run learning rate finder\n",
        "# lr_finder = tuner.lr_find(model, train_dataloaders=dataloader, num_training=100)\n",
        "\n",
        "# # Results can be found in\n",
        "# print(lr_finder.results)\n",
        "\n",
        "# # Plot with\n",
        "# fig = lr_finder.plot(suggest=True)\n",
        "# fig.show()\n",
        "\n",
        "# # Pick point based on plot, or get suggestion\n",
        "# new_lr = lr_finder.suggestion()\n",
        "\n",
        "# # update hparams of the model\n",
        "# model.hparams.lr = new_lr\n",
        "\n",
        "# # # Fit model\n",
        "# # trainer.fit(model)"
      ]
    },
    {
      "cell_type": "code",
      "execution_count": null,
      "metadata": {
        "id": "6U173b1m4WbL"
      },
      "outputs": [],
      "source": [
        "# tuner.lr_find?"
      ]
    },
    {
      "cell_type": "code",
      "execution_count": null,
      "metadata": {
        "id": "7AaZXgKlDikg"
      },
      "outputs": [],
      "source": [
        "# import torch\n",
        "# torch.cuda.is_bf16_supported()\n",
        "\n",
        "# # imports the torch_xla package\n",
        "# import torch_xla\n",
        "# import torch_xla.core.xla_model as xm"
      ]
    },
    {
      "cell_type": "markdown",
      "source": [
        "# Start from here"
      ],
      "metadata": {
        "id": "NQchCet9jZPW"
      }
    },
    {
      "cell_type": "code",
      "execution_count": 1,
      "metadata": {
        "colab": {
          "base_uri": "https://localhost:8080/"
        },
        "id": "7quZ-nYiIB37",
        "outputId": "a40aa340-f26e-45b4-81fd-8d298146c160"
      },
      "outputs": [
        {
          "output_type": "stream",
          "name": "stdout",
          "text": [
            "/content/thinker\n"
          ]
        }
      ],
      "source": [
        "%cd /content/thinker"
      ]
    },
    {
      "cell_type": "code",
      "execution_count": 2,
      "metadata": {
        "id": "y76vS_zmFdyb"
      },
      "outputs": [],
      "source": [
        "# # require by torch.compile on colab\n",
        "# !export LC_ALL=\"en_US.UTF-8\"\n",
        "# !export LD_LIBRARY_PATH=\"/usr/lib64-nvidia\"\n",
        "# !export LIBRARY_PATH=\"/usr/local/cuda/lib64/stubs\"\n",
        "# !ldconfig /usr/lib64-nvidia"
      ]
    },
    {
      "cell_type": "code",
      "execution_count": 3,
      "metadata": {
        "id": "RajGpdKwMeY3"
      },
      "outputs": [],
      "source": [
        "# import seaborn as sns\n",
        "# sns.set_style('dark')\n",
        "import matplotlib\n",
        "import matplotlib.pyplot as plt\n",
        "# matplotlib.style.use('dark_background')"
      ]
    },
    {
      "cell_type": "code",
      "execution_count": 4,
      "metadata": {
        "id": "MuAFbfOlLBrd"
      },
      "outputs": [],
      "source": [
        "import torch\n",
        "import numpy as np\n",
        "from torch.utils.data import DataLoader\n",
        "\n",
        "# from thinker_model import Th1nker\n",
        "from utils import CfgNode, plot_loss_and_accuracy, MatchCount, plot_hp_heatmap, loop_over_extremum\n",
        "from toy_model import ToyThinker\n",
        "from numbers_data import NumbersComputeDataset, NumbersCopyDataset, TASK_SCHEME"
      ]
    },
    {
      "cell_type": "code",
      "execution_count": 5,
      "metadata": {
        "id": "i2hacwQlZIVA"
      },
      "outputs": [],
      "source": [
        "torch.set_printoptions(linewidth=180)"
      ]
    },
    {
      "cell_type": "code",
      "execution_count": 6,
      "metadata": {
        "id": "TK2epMLphIje"
      },
      "outputs": [],
      "source": [
        "from torch.utils.tensorboard import SummaryWriter\n",
        "\n",
        "# Create a TensorBoard object\n",
        "writer = SummaryWriter()"
      ]
    },
    {
      "cell_type": "markdown",
      "source": [
        "# Set parameters"
      ],
      "metadata": {
        "id": "pkSFC5JdjpED"
      }
    },
    {
      "cell_type": "code",
      "execution_count": 7,
      "metadata": {
        "id": "_aOdpHPX0n4G"
      },
      "outputs": [],
      "source": [
        "model_cfg = CfgNode(\n",
        "    # hdim = 32,\n",
        "    # head_size = 4,\n",
        "    # number_of_head= 8,\n",
        "    # resid_pdrop = 0.1,\n",
        "    # attn_pdrop = 0.1,\n",
        "    # bias=False,\n",
        "\n",
        "    # vocab_size = 31+1,\n",
        "\n",
        "    # input_cache_size = 24,\n",
        "    # mem_cache_size = 128,\n",
        "    # max_output_len = 24,\n",
        "\n",
        "    vocab_size = 100+1,\n",
        "    n_probe = 1,\n",
        "    max_latent=64,\n",
        "    max_input_len=48,\n",
        "    output_len=40,\n",
        "    d_model=16,\n",
        "    nhead=4,\n",
        "    d_hid=16*4,\n",
        "    nlayers=1,\n",
        "    dropout=0.02,\n",
        ")\n",
        "# data_cfg = CfgNode(\n",
        "#     batch=2,\n",
        "#     step=2,\n",
        "#     max_number=1_000,\n",
        "\n",
        "#     operations='+-*/',\n",
        "#     operation_dist=[1.0,0,0,0],\n",
        "\n",
        "#     in_bases=[16], # [2,4,8,16] # list(range(2,8+1))\n",
        "#     in_bases_dist=None, # [.1,.2,.3,.4])\n",
        "\n",
        "#     out_bases=[16],\n",
        "#     out_bases_dist=None,\n",
        "# )\n",
        "data_cfg = CfgNode(vocab_size=16, seq_len=30, batch=1, task=None) # , uniform_len=False\n",
        "\n",
        "run_cfg = CfgNode(\n",
        "    n_latent = 4, # range(4,8)\n",
        "    n_step = 1, # range(1,4)\n",
        "\n",
        "    max_iter=100_000,\n",
        "    learning_rate=0.01,\n",
        "    batch = 512,\n",
        ")\n",
        "\n",
        "exp_cfg = CfgNode(\n",
        "    # n_latent = range(4, 8+1),\n",
        "    # n_step = range(1, 4+1),\n",
        "    n_latent = [4],\n",
        "    n_step = [6],\n",
        ")"
      ]
    },
    {
      "cell_type": "code",
      "execution_count": 8,
      "metadata": {
        "id": "Z0gGWq1-GL9t"
      },
      "outputs": [],
      "source": [
        "# sample(exp_cfg.n_step)\n",
        "# exp_cfg.sample('n_step')"
      ]
    },
    {
      "cell_type": "code",
      "execution_count": 9,
      "metadata": {
        "colab": {
          "base_uri": "https://localhost:8080/"
        },
        "id": "ZRteuikvF2mv",
        "outputId": "86cf93f7-073a-47f4-9999-a5b12929301d"
      },
      "outputs": [
        {
          "output_type": "stream",
          "name": "stdout",
          "text": [
            "PyTorch device : cuda:0\n"
          ]
        }
      ],
      "source": [
        "device = \"cpu\"\n",
        "device = torch.device(\"cuda:0\" if torch.cuda.is_available() else \"cpu\")\n",
        "print(\"PyTorch device :\", device)\n",
        "\n",
        "# # model = Th1nker(cfg).to(device)\n",
        "# model = ToyThinker(**model_cfg.__dict__).to(device)\n",
        "\n",
        "# # model = torch.compile(model)\n",
        "\n",
        "# import torchinfo\n",
        "# print(torchinfo.summary(model))\n",
        "\n",
        "# # Optimizers specified in the torch.optim package\n",
        "# learning_rate=run_cfg.learning_rate # 0.005\n",
        "\n",
        "# optimizer = torch.optim.Adam(model.parameters(), lr=learning_rate) #, momentum=0.9)\n",
        "# scheduler = torch.optim.lr_scheduler.CosineAnnealingLR(optimizer, T_max=20, eta_min=0.0005)\n",
        "# # optimizer = torch.optim.SGD(model.parameters(), lr=learning_rate, momentum=0.9)"
      ]
    },
    {
      "cell_type": "code",
      "execution_count": 10,
      "metadata": {
        "cellView": "form",
        "id": "iMD3bMd4vnTn"
      },
      "outputs": [],
      "source": [
        "generation_base = 16 # @param {type:\"number\"}\n",
        "\n",
        "TASK_SCHEME = {\n",
        "    'input':{ # input base\n",
        "        'base':{\n",
        "            'values' : [generation_base], #list(range(2,16+1)), #[2, 4, 10, 16], # 32, 64, 128, 256],\n",
        "            'distribution' : None, # [0.1, 0.2, 0.3, 0.4], # sampling distribution probability\n",
        "        },\n",
        "        'max_length' : 20, # input max lenght after tokenisation\n",
        "        'overflow_strategy' : 'increase_base',\n",
        "    },\n",
        "    'output': { # input base\n",
        "        'base':{\n",
        "            'values' : [generation_base], # list(range(2,16+1)), #[2, 4, 10, 16],\n",
        "            'distribution' : None, # [0.1, 0.2, 0.3, 0.4],\n",
        "        },\n",
        "        'max_length' : 20\n",
        "    },\n",
        "    'tasks': {\n",
        "        'add_mult_generator':{\n",
        "            'task_id': ':fact',\n",
        "            'step': [2,3],\n",
        "            'operations': '+-*/',\n",
        "            'operation_dist':[1,.0,.0,.0],\n",
        "        },\n",
        "        'factorize_generator':{\n",
        "            'task_id': ':fact',\n",
        "            'step': [2,10], # should sample value in the given range\n",
        "            'n_first_prime': 100,\n",
        "        },\n",
        "        'shared_args':{\n",
        "            'batch': 2,\n",
        "            'max_number': 1e15, #1_000_000,\n",
        "            'task_probabilities': [1.0,0.0],\n",
        "        }\n",
        "    }\n",
        "}"
      ]
    },
    {
      "cell_type": "code",
      "source": [
        "NumbersCopyDataset.count"
      ],
      "metadata": {
        "colab": {
          "base_uri": "https://localhost:8080/"
        },
        "id": "RTFOg0-eimVS",
        "outputId": "36870fe7-8c3e-4249-da1b-6cceb186bbaa"
      },
      "execution_count": 11,
      "outputs": [
        {
          "output_type": "execute_result",
          "data": {
            "text/plain": [
              "0"
            ]
          },
          "metadata": {},
          "execution_count": 11
        }
      ]
    },
    {
      "cell_type": "code",
      "source": [
        "from torch.utils.data import IterableDataset, DataLoader\n",
        "\n",
        "class NumbersCopyDataset(IterableDataset):\n",
        "    count = 0\n",
        "    accuracy = 0\n",
        "    challenge_factor = 0\n",
        "    raw_acc = 0\n",
        "    target_len = 1\n",
        "\n",
        "    def __init__(self, vocab_size, seq_len, batch, uniform_len=False, task=None):\n",
        "        self.vocab_size = vocab_size\n",
        "        self.batch = batch\n",
        "        self.seq_len = seq_len\n",
        "        # task\n",
        "        self.uniform_len = uniform_len\n",
        "        self.task = task\n",
        "\n",
        "    @classmethod\n",
        "    def update_accuracy(cls, raw_acc):\n",
        "        cls.raw_acc = raw_acc\n",
        "        # print('update_accuracy ->', cls.raw_acc, raw_acc)\n",
        "\n",
        "    @classmethod\n",
        "    def update_challenge_factor(cls, challenge_factor):\n",
        "        cls.challenge_factor = challenge_factor\n",
        "\n",
        "    @classmethod\n",
        "    def get_challenge_factor(cls):\n",
        "        return cls.challenge_factor\n",
        "\n",
        "    @classmethod\n",
        "    def reset(cls, count=0, target_len=1):\n",
        "        cls.count = count\n",
        "        cls.target_len = target_len\n",
        "\n",
        "    @classmethod\n",
        "    def incr(cls, count=1):\n",
        "        cls.count += count\n",
        "\n",
        "    @classmethod\n",
        "    def get_dist(cls, count=0):\n",
        "        cls.count = count\n",
        "\n",
        "    def __iter__(self):\n",
        "        seq_len, batch = self.seq_len, self.batch\n",
        "        while True:\n",
        "            NumbersCopyDataset.incr(batch)\n",
        "            factor = NumbersCopyDataset.get_challenge_factor()\n",
        "\n",
        "            # accuracy = NumbersCopyDataset.accuracy\n",
        "            # target_len = accuracy*seq_len\n",
        "            raw_acc = NumbersCopyDataset.raw_acc\n",
        "            target_len = NumbersCopyDataset.target_len\n",
        "            if raw_acc > 0.85:\n",
        "               target_len += 0.05\n",
        "               if target_len > seq_len: target_len = seq_len\n",
        "\n",
        "            # print('raw_acc:', raw_acc)\n",
        "            # print('target_len:', target_len)\n",
        "            # print('cls.target_len:',NumbersCopyDataset.target_len)\n",
        "            NumbersCopyDataset.target_len = target_len\n",
        "            NumbersCopyDataset.update_challenge_factor(target_len/seq_len)\n",
        "\n",
        "            x = torch.randint(0, self.vocab_size, (batch, seq_len))\n",
        "\n",
        "            if 'progressive_copy' == self.task:\n",
        "                mask_target_len = seq_len - target_len # * 1.1\n",
        "                # :-) basic implementation of prgoressive/currilum learning\n",
        "                # print('mask_target_len',mask_target_len)\n",
        "\n",
        "                # build mask\n",
        "                # _, mu, _ -> 0, target_len, seq_len\n",
        "                s = torch.normal(0, 1, (batch,))\n",
        "                min_s = min(s)\n",
        "                s = (s-min_s) / (max(s)-min_s)\n",
        "                s = s * mask_target_len * 2\n",
        "                s = torch.clip(s, 0, seq_len-1)\n",
        "                mask_len = s.int() - 1\n",
        "                # mask_len = torch.randint(0, seq_len-3, (batch,)) # uniform generation\n",
        "                mask = torch.arange(seq_len)[None,:].expand(batch, -1) > mask_len[:,None]\n",
        "\n",
        "                # m = mask_len.min()\n",
        "                # if m<3: print(\"-\"*20, f\"min len mask:{m}\")\n",
        "\n",
        "                x = torch.where(mask, x, 0)\n",
        "                y = x # just copy\n",
        "            # run tasks\n",
        "            if None == self.task:\n",
        "                y = x #.clone()\n",
        "            if 'sort' == self.task:\n",
        "                y = x.sort(dim=1)[0]\n",
        "            if 'flip' == self.task:\n",
        "                y = x.flip(dims=(1,))\n",
        "            if 'roll' == self.task:\n",
        "                y = torch.Tensor(np.apply_along_axis(lambda a: np.roll(a, a[0]), 1, x))\n",
        "                # y = x.roll(x[0].item(), 0) # for non batched\n",
        "            if 'roll_num' == self.task:\n",
        "                y = (x + x[:,0]) % self.high\n",
        "            if 'jump' == self.task:\n",
        "                idx = x[:,0]\n",
        "                for i in range(16): # max 16 jumps\n",
        "                    idx += x[:, idx]\n",
        "                jump = x[:,0] # number of jump\n",
        "                y = idx[:, jump]\n",
        "            if 'cumsum' == self.task:\n",
        "                # y = x.clone()\n",
        "                # for i in range(x.size(1)):\n",
        "                #     y[:,i:] = (y[:,i:] + y[i:,i]) % self.high # faster that position base flip\n",
        "                y = torch.cumsum(x, dim=1) % self.vocab_size\n",
        "            yield x, y"
      ],
      "metadata": {
        "id": "4Lijh1pBdeLM"
      },
      "execution_count": 12,
      "outputs": []
    },
    {
      "cell_type": "code",
      "execution_count": 13,
      "metadata": {
        "colab": {
          "base_uri": "https://localhost:8080/"
        },
        "id": "donIL281e2Ay",
        "outputId": "790bb2f1-dbeb-451f-c7cc-a925711bccb1"
      },
      "outputs": [
        {
          "output_type": "stream",
          "name": "stdout",
          "text": [
            "tensor([[ 0,  0,  0,  0,  0,  0,  0,  0,  0,  0,  0,  0,  0,  0,  0,  0,  0,  0,  0,  0,  0,  0,  0,  0,  0,  0,  0,  0,  0,  0,  0,  0,  0,  0,  0,  0,  0,  0,  0, 15],\n",
            "        [ 0,  0,  0,  0,  0,  0,  0,  0,  0,  0,  4, 10, 13,  8,  3,  6, 11, 14, 13,  4, 13, 11,  3, 10,  2,  5, 10,  4,  9,  0, 10,  1,  2, 15,  2,  1, 11, 14,  1,  3],\n",
            "        [ 0,  0,  0,  0,  0,  0,  0,  0,  0,  0,  0,  0,  0,  0,  0,  0,  0,  0,  0,  0,  0,  0,  0,  0,  0,  0,  0,  0,  0,  0,  0,  0,  0,  0,  0,  0,  0,  0,  0,  9],\n",
            "        [ 5,  3,  6, 10, 15,  1,  7,  5, 12, 15,  6, 15, 14, 11, 13,  8, 15, 14, 12, 13,  7,  7,  8,  6,  8,  7, 10, 14,  1, 14,  1,  7,  9, 14, 10,  1,  9,  3,  8, 15],\n",
            "        [ 0,  0,  0,  0,  0,  0,  0,  0,  0,  0,  0,  0,  0,  0,  0,  0,  0,  0,  0,  0, 11,  6,  0,  4,  8,  8,  3,  2, 11,  9,  2, 13, 14, 11,  1,  1, 11,  9, 11,  8],\n",
            "        [ 0,  0,  0,  0,  9,  3,  7, 11,  5, 15, 11, 12,  0, 12,  8,  0,  0,  2, 14, 14, 11,  4,  4,  2,  4,  0,  3,  4,  9,  6, 11, 15,  1,  1,  8, 15,  1,  2,  4, 15],\n",
            "        [ 0,  0,  0,  0,  0,  0,  0,  0,  0,  0,  0,  0,  0,  0,  0,  0,  0,  0,  0,  9,  8,  4,  2,  5,  6,  3, 13,  0,  3,  0,  1, 12, 15,  0,  0,  1,  7, 13, 14, 10],\n",
            "        [ 0,  0,  0,  0,  0,  0,  0,  0,  0,  0,  0,  1,  1,  3,  4,  7,  3,  7, 12,  4, 10,  1, 11, 15, 10, 15,  0,  3,  0, 12,  5, 11,  8,  1, 13, 13, 13,  5,  7, 11],\n",
            "        [ 0,  0,  0,  0,  0,  0,  0,  0,  0,  0,  0,  0,  0,  0,  0,  0,  0,  0,  0,  0,  0,  0,  0,  0,  0,  0,  0,  0,  0, 13,  8,  1, 11, 10, 12,  7,  3,  8, 10, 10],\n",
            "        [ 0,  0,  0,  0,  0,  0,  0,  0,  0,  0,  0,  0,  0,  0,  0,  0,  0,  0,  0,  0,  0,  0,  0,  0,  0,  0,  0,  0,  0,  0,  0,  0,  0,  0, 14,  4, 10,  3,  8, 11]])\n",
            "count: 10, challenge_factor: 0.025, raw_acc: 0.95, target_len: 1\n",
            "\n",
            "tensor([[ 0,  0,  0,  0,  0,  0,  0,  0,  0,  0,  0,  0,  0,  0,  0,  0,  0,  0,  0,  0,  0,  0,  0,  0,  0,  2, 13,  9, 15,  1,  8,  4,  5,  3, 15, 10,  7, 12, 12, 13],\n",
            "        [ 0,  0,  0,  0,  0,  0,  0,  0,  0,  0,  0,  0,  0,  0,  0,  0,  0,  0,  0,  0,  0,  0,  0,  0,  0,  0,  0,  0,  0,  0,  0,  0,  0,  0,  0,  0,  0,  0,  0,  3],\n",
            "        [ 0,  0,  0,  0,  0,  0,  0,  0,  0,  0,  0,  0,  0,  0,  0,  0,  0,  0,  0,  0,  0,  0,  0,  0,  0,  6, 14,  2,  5, 14,  0, 15, 12, 10, 10,  6, 12,  1,  1,  7],\n",
            "        [ 1,  1, 12, 15,  7,  2,  7,  3,  5,  4,  3,  9, 10,  8,  5,  6,  7, 10,  6,  6,  4, 10,  4,  4,  1,  9,  0, 10,  3,  6,  0,  6, 10, 12,  4, 11, 11, 14,  5,  7],\n",
            "        [ 0,  0,  0,  0,  0,  0,  0,  0,  0,  0,  0,  0,  0,  0,  0,  0,  0,  0,  0,  0,  0,  0,  0,  0,  0,  0,  0,  0,  0,  0,  0,  6, 13,  4,  2,  5,  2,  3, 14,  4],\n",
            "        [ 0,  0,  0,  0,  0,  0,  0,  0,  0,  0,  0,  0,  0,  0,  0,  0,  0,  0,  0,  0,  0,  0,  0,  0,  0,  0,  0,  0,  0,  0,  0,  0,  0,  0,  0,  0,  0,  0,  0,  7],\n",
            "        [ 0,  0,  0,  0,  0,  0,  0,  0,  0,  0,  0,  0,  0,  0,  0,  0,  0,  0,  0,  0,  0,  0,  0,  0,  0,  0,  0,  0,  0,  0,  0,  0,  0,  0,  0,  0,  3,  4,  0, 14],\n",
            "        [ 0,  0,  0, 12,  9,  4,  8,  7, 13,  4, 10,  8, 15,  1,  0,  3,  1,  7,  3,  7, 10, 10, 15,  8,  8,  0,  4,  3,  0,  1,  6,  3,  6,  7, 12,  7,  2,  5,  0,  3],\n",
            "        [ 0,  0,  0,  0,  0,  0,  0,  0,  0,  0,  0,  0,  0,  0,  0,  0,  0,  0,  0, 10,  7, 13,  4, 11,  6,  3, 13,  3, 11,  7, 14, 10,  6,  6,  2, 14,  8,  4,  0, 12],\n",
            "        [ 0,  0,  0,  0,  0,  0,  0,  0,  0,  0,  0,  0,  0,  0,  0,  0,  0,  0,  0,  0,  0,  0,  0,  0,  0,  0,  0,  0,  0,  0,  0,  0,  0,  0,  0,  0,  0,  0,  0, 14]])\n",
            "count: 20, challenge_factor: 0.026250000000000002, raw_acc: 0.95, target_len: 1.05\n",
            "\n",
            "tensor([[ 0,  0,  0,  0,  0,  0,  0,  0,  0,  0,  0,  0,  0,  0,  0,  0,  0,  0,  0,  0,  0,  0,  0,  0,  0,  0,  0,  0,  0,  0,  0,  0,  0,  0,  0,  0,  0,  0,  0,  0],\n",
            "        [14,  4,  9,  5,  2,  9,  8,  0, 10,  7,  6, 14,  1,  8, 13,  7, 12,  1,  0,  0, 13, 14,  0,  7, 12,  8,  3, 11, 13,  8,  6,  6,  3,  4,  7, 14, 11, 10,  4,  3],\n",
            "        [ 0,  0,  0,  0,  0,  0,  0,  0,  0,  0,  0,  0,  0,  0,  0,  0,  0,  0,  0,  0,  0,  0,  0,  0,  0,  0,  0,  0,  0,  0,  3, 13, 10,  2,  9,  3,  9, 14,  3,  5],\n",
            "        [ 0,  0,  0,  0,  0,  0,  0,  0,  0,  0,  0,  0,  0,  0,  0,  0,  0,  0,  0,  0,  0,  0,  0,  0,  0,  0,  0,  0,  0,  0,  0,  0,  0,  0,  0,  0,  0,  0,  0,  1],\n",
            "        [ 0,  0,  0,  0,  0,  0,  0,  0,  0,  0,  0,  0,  0,  0,  0,  0,  0,  0,  0,  0,  0,  0,  0,  0,  0,  0,  0,  0,  0,  0,  0,  0,  0,  0,  0,  0,  0,  0,  0,  1],\n",
            "        [ 0,  0,  0,  0,  0,  0,  0,  0,  0,  0,  0,  0,  0,  0,  0,  0,  0,  0,  0,  0,  0,  0,  0,  0,  0,  0,  0,  0,  0,  0,  0,  0,  0,  0,  0,  0,  0,  0,  0,  9],\n",
            "        [ 0,  0,  0,  0,  0,  0,  0,  0,  0,  0,  0,  0,  0,  0,  0,  0,  0, 15,  1, 12,  0, 15, 15, 13, 15,  2,  9,  1, 12,  0,  5,  9, 10,  1, 10,  1,  0, 15,  6,  7],\n",
            "        [ 0,  0,  0,  0,  0,  0,  0,  0,  0,  0,  0,  0,  0,  0,  0,  0,  0,  0,  0,  0,  0,  0,  0,  0,  0,  0,  0,  0,  0,  0,  0,  0,  0,  0,  0,  0,  0,  0,  0, 15],\n",
            "        [ 0,  0,  0,  0,  0,  0,  0,  0,  0,  0,  0,  0,  0,  0,  0,  0,  0,  0,  0,  0,  0,  0, 14,  9,  7,  5, 13,  7, 12,  1,  5,  8,  9, 12,  5,  5,  7, 12,  4,  2],\n",
            "        [ 0,  0,  0,  0,  0,  0,  0,  0,  0,  0,  0,  0,  0,  0,  0,  0,  0,  0,  0,  0,  0,  0,  0,  0,  0,  0,  0,  0,  0,  0,  0,  0,  0,  0,  0,  0,  0,  0,  0, 12]])\n",
            "count: 30, challenge_factor: 0.027500000000000004, raw_acc: 0.95, target_len: 1.1\n",
            "\n",
            "tensor([[ 0,  0,  0,  0,  0,  0,  0,  0,  0,  0,  0,  0,  0,  0,  0,  0,  0,  0,  0,  0,  0,  0,  0,  0,  0,  0,  0,  0,  0,  0,  0,  0,  5,  4,  4, 10,  3,  2,  4,  2],\n",
            "        [ 0,  0,  0,  0,  0,  0,  0,  0,  0,  0,  0,  0,  0,  0,  0,  0,  0,  0,  0,  0,  0,  0,  0,  0,  0,  0,  0,  0,  0,  0,  0,  0,  0,  0,  0,  0,  0,  0,  0,  7],\n",
            "        [ 0,  0,  0,  0,  0,  0,  0,  0,  0,  0,  0,  0,  0,  0,  0,  0,  0,  0,  0,  0,  0,  0,  0,  0,  0,  0,  0,  0,  0,  0,  0,  0,  0,  0,  0,  0,  0,  0,  0, 10],\n",
            "        [ 0,  0,  0,  0,  0,  0,  0,  0,  0,  0,  0,  0,  0,  0,  0,  0,  0,  0,  0,  0,  0,  0,  0,  6, 11,  8,  1,  9, 13,  3,  3,  3,  0,  6,  1,  3,  8, 12,  5, 15],\n",
            "        [ 9,  7, 13, 13,  7,  2, 15, 12, 13,  7,  8,  9, 12, 11, 11,  4, 11,  0,  5,  4,  7,  4, 10, 14, 15, 12,  2,  5, 13, 14, 11,  1, 13,  8,  0, 11,  0, 14,  4, 11],\n",
            "        [ 0,  0,  0,  0,  0,  0,  0,  0,  0,  0,  0,  0,  0,  0,  0,  0,  0,  0,  0,  0,  0,  0,  0,  0,  0,  0,  0,  0,  0,  0,  0,  0,  0,  0,  0,  0,  0,  0,  0,  3],\n",
            "        [ 0,  0,  0,  0,  0,  0,  0,  0,  0,  0,  0,  0,  0,  0,  0,  0,  0,  0,  0,  0,  0,  0,  0,  0,  0,  0,  0,  0,  0,  0,  0,  0,  0,  0, 14, 11,  3,  9,  7,  1],\n",
            "        [ 0,  0,  0,  0,  0,  0,  0,  0,  0,  0,  0,  0,  0,  0,  0,  0,  0,  0,  0,  0,  0,  0,  0,  0,  0,  0,  0,  0,  0,  0,  0,  0,  0,  0,  0,  0,  0,  0,  0,  4],\n",
            "        [ 0,  0,  0,  0,  0,  0,  0,  0,  0,  0,  0,  0,  0,  0,  0,  0,  0,  0,  0,  0,  0,  0,  0,  0,  4,  4, 11,  4, 11,  4,  9, 10, 15,  6, 10,  5, 12,  0,  9,  9],\n",
            "        [ 0,  0,  0,  0,  0,  0,  0,  0,  0,  0,  0,  0,  0,  0,  0,  0,  0,  0,  0,  0,  0,  0,  0,  0,  0,  0,  0,  0,  0,  0,  0,  0,  0,  0,  0,  0,  0,  0,  0,  1]])\n",
            "count: 40, challenge_factor: 0.028750000000000005, raw_acc: 0.95, target_len: 1.1500000000000001\n",
            "\n",
            "tensor([[ 0,  0,  0,  0,  0,  0,  0,  0,  0,  0,  0,  0, 11,  0,  4,  9,  2,  5,  0,  6,  7, 13, 15,  3,  1,  2, 11, 15,  5,  2, 15,  4,  3, 14,  1, 11, 15, 10,  1, 15],\n",
            "        [ 0,  0,  0,  0,  0,  0,  0,  0,  0,  0,  0,  0,  0,  0,  0,  0,  0,  0,  0,  0,  0,  0,  0,  0,  0,  0,  0,  0,  0,  0,  0,  0,  0,  0,  0,  0,  0,  0,  0,  8],\n",
            "        [ 0,  0,  0,  0,  0,  0,  0,  0,  0,  0,  0,  0,  0,  0,  0,  0,  0,  0,  0,  0,  2,  3, 13,  1, 15,  6,  1, 13,  8, 11, 13,  9,  7,  7,  9,  9,  5, 13,  0,  6],\n",
            "        [ 0,  0,  0,  0,  0,  0,  0,  0,  0,  0,  0,  0,  0,  0,  0,  0,  0,  0,  0,  0,  0,  0,  0,  0,  0,  0,  0,  0,  0,  0,  0,  0,  0,  0,  0,  0,  0,  0,  0,  3],\n",
            "        [ 5, 12,  7,  4, 12, 12, 10,  6, 11,  6,  2,  5, 10, 14,  6, 12,  8,  8,  7,  9,  0, 10,  5,  9, 15, 14,  8, 11,  7,  4,  1,  0, 15, 14, 14, 12,  0,  0,  2, 14],\n",
            "        [ 0,  0,  0,  0,  0,  0,  0,  0,  0,  0,  0,  0,  0,  0,  0,  0,  0,  0,  0,  0,  0,  0,  0,  0,  0,  0,  0,  0,  0,  0,  0,  0,  0,  0,  0,  0,  0,  0,  0, 14],\n",
            "        [ 0,  0,  0,  0,  0,  0,  0,  0,  0,  0,  0,  0,  0,  0,  0,  0,  0,  0,  0,  0,  0,  0,  0,  0,  0,  0,  0,  0,  0,  0,  0,  0,  0,  0,  0,  0,  0,  0,  0,  0],\n",
            "        [ 0,  0,  0,  0,  0,  0,  0,  0,  0,  0,  0,  0,  0,  0,  0,  0,  0,  0,  0,  0,  0,  0,  0,  0,  0,  6,  9, 13,  4, 12,  4,  1,  6,  7, 13, 11,  9,  4,  0,  7],\n",
            "        [ 0,  0,  0,  0,  0,  0,  0,  0,  0,  0,  0,  0,  0,  0,  0,  0,  0,  0,  0,  0,  0,  0,  0,  0,  0,  0,  0,  0,  0,  0,  0,  0,  0,  0,  0,  0,  0,  0,  0,  8],\n",
            "        [ 0,  0,  0,  0,  0,  0,  0,  0,  0,  0,  0,  0,  0,  0,  0,  0,  0,  0,  0,  0, 11, 10, 15, 14, 13, 12, 10,  1, 11,  4, 11,  3,  8,  2,  5, 10,  1,  5,  2,  1]])\n",
            "count: 50, challenge_factor: 0.030000000000000006, raw_acc: 0.95, target_len: 1.2000000000000002\n",
            "\n",
            "tensor([[ 0,  0,  0,  0,  0,  0,  0,  0,  0,  0,  0,  0,  0,  0,  0,  0,  0,  0, 15,  9, 10,  0,  5,  6,  0, 11, 12, 11,  2,  7, 13, 12,  6,  2,  5, 14, 14,  1,  8,  5],\n",
            "        [ 0,  0,  0,  0,  0,  0,  0,  0,  0,  0,  0,  0,  0,  0,  0,  0,  0,  0,  0,  0,  0,  0,  0, 13,  7,  1, 14,  5, 10,  3,  7,  7,  1,  6,  9, 13,  9,  7, 12, 13],\n",
            "        [ 0,  0,  0,  0,  0,  0,  0,  0,  0,  0,  0,  0,  0,  0,  0,  0,  0,  0,  0,  0,  0,  0,  0,  0,  0,  0,  0,  0,  0,  0,  0,  0,  0,  0,  0,  0,  0,  0,  0,  9],\n",
            "        [ 0,  0,  0,  0,  0,  0,  0,  0,  0,  0,  0,  0,  0,  0,  0,  0,  0,  0,  0,  0,  0,  0,  0,  0,  0,  0,  0,  0,  0,  0,  0,  0,  0,  0,  0,  0,  0,  0,  0, 14],\n",
            "        [ 0,  0,  0,  0,  0, 12, 12,  2,  2, 10,  8,  7, 13, 15,  7,  7,  7,  6,  0, 11, 12, 14,  4, 12, 12, 10, 15,  9,  1, 12,  4,  2,  8,  7, 15,  0, 10, 12, 10, 13],\n",
            "        [ 2,  7,  2, 15, 11,  0,  9, 14, 14, 15,  6, 14, 12, 10, 12,  3, 15,  8,  3,  1, 11,  7, 10, 14, 14, 12,  3, 11,  6,  9,  0, 13, 14,  7,  6,  8,  4, 15,  0,  8],\n",
            "        [ 0,  0,  0,  0,  0,  0,  0,  0,  0,  0,  0,  0,  0,  0,  0,  0,  0,  0,  0,  0,  0,  0,  0,  0,  0,  0,  0,  0,  0,  0,  0, 10, 13,  4, 15,  7, 14,  9,  7,  6],\n",
            "        [ 0,  0,  0,  0,  0,  0,  0,  4,  4,  4,  2,  2,  8,  8, 12, 10,  5, 13, 10, 13, 13, 10,  4, 11, 12, 12,  4, 10,  7,  3,  3,  7, 11,  3,  2, 11, 13, 11,  7,  7],\n",
            "        [ 0,  0,  0,  4, 15, 12,  1, 14,  1,  3, 10,  7,  1,  1,  0, 12, 12, 11,  6,  0, 11, 11,  6, 11, 13,  2, 15, 12, 14, 15,  9,  5,  3,  1,  6,  8,  2,  1,  1,  5],\n",
            "        [ 0,  0,  0,  0,  0,  0,  0,  0,  0,  0,  0,  0,  0,  0,  0,  0,  0,  0,  0,  0,  0,  0,  0,  0,  0,  0,  0,  0,  0, 14, 10, 11, 14,  5,  7, 11, 12,  8,  3, 12]])\n",
            "count: 60, challenge_factor: 0.03125000000000001, raw_acc: 0.95, target_len: 1.2500000000000002\n",
            "\n",
            "tensor([[ 0,  0,  0,  0,  0,  0,  0,  0,  0,  0,  0,  0,  0,  0,  0,  0,  0,  0,  0,  0,  0,  0,  0,  8, 10,  6,  3,  8,  4,  3, 12, 13, 10, 13, 14,  3, 14, 12,  1, 14],\n",
            "        [ 0,  0,  0,  0,  0,  0,  0,  0,  0,  0, 15,  8,  3, 11,  9, 12,  7, 11,  5,  9,  7,  7,  7, 11,  4,  7,  1, 14,  2,  4,  0,  0,  9,  8,  4,  6,  8,  4,  8,  3],\n",
            "        [ 0,  0,  0, 15,  8,  1, 13, 15,  1,  0,  9, 10,  8,  4,  8,  8, 14,  6,  8,  2,  6, 15,  7,  2, 13,  9, 11,  1, 10,  2,  1, 13,  8,  1,  5, 11,  4,  6, 13, 10],\n",
            "        [ 0,  0,  0,  0,  0,  0,  0,  0,  0,  0,  0,  0,  0,  0,  0,  0,  0,  0,  0,  0,  0,  0,  0,  0,  0,  0,  0,  0,  0,  0,  0,  0,  0,  0,  0,  0,  0,  0,  0,  3],\n",
            "        [ 0,  0,  0,  0,  0,  0,  0,  0,  0,  0,  0,  0,  0,  0,  0,  0,  0,  0,  0,  0,  0,  0,  0,  0,  0,  0, 10,  8, 11, 10,  4,  6,  3,  9,  1, 15, 15,  2, 10,  1],\n",
            "        [ 0,  0,  0,  0,  0,  0,  0,  0,  5,  7,  3,  3,  6, 14, 15,  7, 13,  1,  0,  6, 14,  8,  8,  9,  2,  7,  0,  2,  6,  3,  2,  2, 12,  6, 10, 11,  6, 13, 11,  2],\n",
            "        [ 0,  0,  0,  0,  0,  0,  0,  0,  0,  0,  0,  0,  0,  0,  0,  0,  0,  0,  0,  0,  0,  0,  0,  0, 12, 10,  1, 15, 14,  1, 10,  7,  9,  3,  5,  8, 12,  8,  6, 10],\n",
            "        [14,  7, 10,  9, 15, 10, 11,  0, 10,  2, 11,  3,  0, 11, 13,  4,  6,  9, 12,  2, 13, 15, 12, 15,  6, 12,  8,  2,  8,  4,  1, 14,  7,  4,  1,  1,  6, 12,  0, 11],\n",
            "        [ 0,  0,  0,  0,  0,  0,  0,  0,  0,  0,  3,  5,  5, 11,  2, 13,  6, 11, 15,  9,  1, 14,  5, 12, 13,  9,  7,  2,  0, 15,  1,  5,  3,  6, 10,  6,  0, 10,  1, 12],\n",
            "        [ 0,  0,  0,  0,  0,  0,  0,  0,  0,  0,  0,  0,  0,  0,  0,  0,  0,  0,  0,  0,  0,  0,  0,  0,  0,  0,  0,  0,  0,  0,  0,  0,  0,  0, 11, 11,  8,  9,  3, 11]])\n",
            "count: 70, challenge_factor: 0.03250000000000001, raw_acc: 0.95, target_len: 1.3000000000000003\n",
            "\n"
          ]
        }
      ],
      "source": [
        "# data_cfg = CfgNode(batch=2, step=2, max_number=1000, operations='+-*/', operation_dist=[1.0,0,0,0],\n",
        "#     in_bases=[16], in_bases_dist=None, # [2,4,8,16] # list(range(2,8+1))\n",
        "#     out_bases=[16], out_bases_dist=None, # [.1,.2,.3,.4])\n",
        "# )\n",
        "# dataset = NumbersComputeDataset(data_cfg)\n",
        "\n",
        "data_cfg = CfgNode(vocab_size=16, seq_len=40, batch=10, task='progressive_copy')\n",
        "dataset = NumbersCopyDataset(**data_cfg.__dict__)\n",
        "\n",
        "inputs, targets = next(iter(dataset))\n",
        "inputs, targets\n",
        "\n",
        "NumbersCopyDataset.reset()\n",
        "# NumbersCopyDataset.target_len = 0.1\n",
        "accuracy = .95\n",
        "for i, (inputs, targets) in enumerate(dataset):\n",
        "  print(targets)\n",
        "\n",
        "  NumbersCopyDataset.update_accuracy(accuracy)\n",
        "\n",
        "  factor =  NumbersCopyDataset.get_challenge_factor()\n",
        "  count, challenge_factor, raw_acc, target_len = NumbersCopyDataset.count, NumbersCopyDataset.challenge_factor, NumbersCopyDataset.raw_acc, NumbersCopyDataset.target_len\n",
        "  print(\"\"\n",
        "    f\"count: {count}, \"\n",
        "    f\"challenge_factor: {challenge_factor}, \"\n",
        "    f\"raw_acc: {raw_acc}, \"\n",
        "    f\"target_len: {target_len}\"\n",
        "    \"\\n\"\n",
        "  )\n",
        "\n",
        "  if i > 5: break\n"
      ]
    },
    {
      "cell_type": "code",
      "execution_count": 14,
      "metadata": {
        "id": "0--JrNg6SCL3"
      },
      "outputs": [],
      "source": [
        "# logs1 # logs1 = logs.copy()\n",
        "# logs2 = logs.copy()"
      ]
    },
    {
      "cell_type": "code",
      "source": [
        "# NumbersCopyDataset.count, NumbersCopyDataset.challenge_factor, NumbersCopyDataset.accuracy, NumbersCopyDataset.target_len"
      ],
      "metadata": {
        "id": "nf9ojWtxm1Oa"
      },
      "execution_count": 15,
      "outputs": []
    },
    {
      "cell_type": "code",
      "execution_count": 16,
      "metadata": {
        "id": "mYOmbjZo_kZT"
      },
      "outputs": [],
      "source": [
        "logs = []"
      ]
    },
    {
      "cell_type": "markdown",
      "source": [
        "# run training"
      ],
      "metadata": {
        "id": "V5SJn0C8jwcj"
      }
    },
    {
      "cell_type": "code",
      "execution_count": null,
      "metadata": {
        "id": "Cv4BhVHvt4hQ"
      },
      "outputs": [],
      "source": [
        "import pandas as pd\n",
        "import seaborn as sns\n",
        "import matplotlib.pyplot as plt\n",
        "from matplotlib.gridspec import GridSpec\n",
        "\n",
        "def plot_loss_and_accuracy(logs, experiment=None, title=None, ax=None, y_log=False):\n",
        "    # Create a DataFrame from the list of dictionaries.\n",
        "    if isinstance(logs, pd.DataFrame): df = logs\n",
        "    else: df = pd.DataFrame(logs)\n",
        "\n",
        "    # Filter current experiment\n",
        "    if 'experiment' in df.columns:\n",
        "        if experiment is None:\n",
        "            experiment = df.iloc[-1].experiment\n",
        "        df = df[df.experiment == experiment]\n",
        "\n",
        "    if ax is None: fig, ax = plt.subplots()\n",
        "\n",
        "    # Plot the loss values on the left y-axis.\n",
        "    sns.lineplot(data=df, x=df.index, y='loss', color='red', alpha=.1, ax=ax) #, hue='step')\n",
        "    sns.lineplot(data=df, x=df.index, y=df.loss.rolling(100).mean(), label='loss', color='red', linewidth=.3, ax=ax)\n",
        "    if 'factor' in df.columns:\n",
        "        loss_factor = df.loss*df.factor\n",
        "        sns.lineplot(data=df, x=df.index, y=loss_factor,  color='darkorange', alpha=.1, ax=ax)\n",
        "        sns.lineplot(data=df, x=df.index, y=loss_factor.rolling(100).mean(), label='loss * weight', color='darkorange', ax=ax)\n",
        "    # sns.lineplot(data=df, x='iteration', y='probe_loss', color='peru', ax=ax)\n",
        "    ax.set_ylabel('Loss')\n",
        "    if y_log: plt.yscale('log',base=2)\n",
        "\n",
        "    # Plot the accuracy values on the right y-axis.\n",
        "    ax2 = ax.twinx()\n",
        "    sns.lineplot(data=df, x=df.index, y='accuracy', color='purple', alpha=.1, ax=ax2)\n",
        "    sns.lineplot(data=df, x=df.index, y=df.accuracy.rolling(100).mean(), label='accuracy * weight', color='purple',  ax=ax2)\n",
        "    if 'raw_acc' in df.columns:\n",
        "        sns.lineplot(data=df, x=df.index, y='raw_acc',  color='violet',  alpha=.1, ax=ax2)\n",
        "        sns.lineplot(data=df, x=df.index, y=df.raw_acc.rolling(100).mean(),  label='raw accuracy',  color='violet', linewidth=.3, ax=ax2)\n",
        "\n",
        "    if 'factor' in df.columns:   sns.lineplot(data=df, x=df.index, y='factor',   label='difficulty weight',   color='gray', ax=ax2)\n",
        "\n",
        "    if 'loss_std' in df.columns: sns.lineplot(data=df, x=df.index, y='loss_std', label='loss_std', color='wheat', ax=ax2)\n",
        "    if 'acc_std' in df.columns:  sns.lineplot(data=df, x=df.index, y='acc_std',  label='acc_std',  color='lavender', ax=ax2)\n",
        "\n",
        "    ax2.set_ylabel('Accuracy')\n",
        "\n",
        "    best_loss = df.loss.min()\n",
        "    best_acc = df.accuracy.max()\n",
        "\n",
        "    # Set the title of the plot.\n",
        "    if title: ax.set_title(title)\n",
        "    else: ax.set_title(f\"Min Loss {best_loss:.4f} / {best_acc:.2f} Highest Accuracy\")\n",
        "    ax.set_xlabel('Step')\n",
        "\n",
        "    # # Set the width of the plot.\n",
        "    ax.figure.set_size_inches(12, 4)\n",
        "    # sns.move_legend(ax2, \"lower right\")\n",
        "    ax.get_legend().set_visible(False)\n",
        "    ax2.get_legend().set_visible(False)\n",
        "    fig.legend(loc = \"upper left\") # \"lower right\"\n",
        "\n",
        "def plot_hp_heatmap(logs, use_last_n_batch=200, aggr='max', ax=None):\n",
        "    if isinstance(logs, pd.DataFrame): df = logs\n",
        "    else: df = pd.DataFrame(logs)\n",
        "\n",
        "    if len(df) < use_last_n_batch:\n",
        "        return\n",
        "\n",
        "    # Group the data by the latent and step columns.\n",
        "    df = df.groupby(['latent', 'step'])\n",
        "    if aggr == 'mean':\n",
        "        df = df.mean()\n",
        "    elif aggr == 'max':\n",
        "        df = df.max()\n",
        "    else:\n",
        "        assert f'Invalid argument aggr={aggr}'\n",
        "    df = df.reset_index().pivot(index=\"latent\", columns=\"step\", values=\"accuracy\")\n",
        "\n",
        "    if ax is None: fig, ax = plt.subplots()\n",
        "\n",
        "    # Plot a heatmap of the average loss.\n",
        "    sns.heatmap(df, annot=True, ax=ax, annot_kws={\"size\": 22})\n",
        "\n",
        "# plot_loss_and_accuracy(logs[:20000], y_log=True)"
      ]
    },
    {
      "cell_type": "code",
      "execution_count": null,
      "metadata": {
        "colab": {
          "base_uri": "https://localhost:8080/",
          "height": 1000
        },
        "id": "0qN0KgWCdvUm",
        "outputId": "dedf3b03-6705-480d-b87b-50e183c7094f"
      },
      "outputs": [
        {
          "output_type": "stream",
          "name": "stdout",
          "text": [
            "exp:1, n_latent:4, n_step:6\n"
          ]
        },
        {
          "output_type": "display_data",
          "data": {
            "text/plain": [
              "<Figure size 1200x400 with 2 Axes>"
            ],
            "image/png": "[encoded data removed]"
          },
          "metadata": {}
        },
        {
          "output_type": "stream",
          "name": "stdout",
          "text": [
            "learning_rate 0.01\n",
            "    0     0     0     0     0     0     0     0     0     0     0     0     0     0     0     0     0     0     0     0     1     2     2     9    49   182   549  1506  3664  7575 13669 21763 30177 36480 35942 28428 16092  6431  max = 38\n",
            " 0.00  0.00  0.00  0.00  0.00  0.00  0.00  0.00  0.00  0.00  0.00  0.00  0.00  0.00  0.00  0.00  0.00  0.00  0.00  0.00  0.00  0.00  0.00  0.00  0.00  0.00  0.00  0.01  0.02  0.04  0.07  0.11  0.15  0.18  0.18  0.14  0.08  0.03  \n",
            "\n",
            "averaged loss -> mean_prev:0.5433 mean:0.5404\n",
            "\n",
            "accuracy: 0.716 raw_acc: 0.820 with factor 0.87     - sample: acc:0.93 _ 37 correct\n",
            " 0,  0,  0,  0,  0,  0,  4,  6,  3,  7, 11,  6, 11,  7, 11,  0, 10,  3, 11,  5, 11, 13,  8,  5, 12,  2,  6, 10,  0, 11, 11,  4,  5,  3, 14,  9,  8,  2, 14,  1, \n",
            " 0,  0,  0,  0,  0,  0,  4,  6,  3,  7, 11,  6, 11,  7, 11,  0, 10,  2, 11,  5, 11, 13,  8,  5, 12,  2,  6, 10,  0, 11, 11,  4,  5,  2, 14,  9,  8,  2, 14, 14, \n",
            "\n",
            "~ ~ ~  loss_std:0.0525 acc_std:0.0115  ~ ~ ~\n",
            "\n",
            "accuracy: 0.726 raw_acc: 0.831 with factor 0.87     - sample: acc:0.82 _ 33 correct\n",
            " 0,  0,  0,  0,  0,  5,  5, 11,  1, 10,  4, 12,  2, 13,  1, 15,  7, 13,  4, 10,  3,  5,  8,  6,  4,  5,  4,  0,  8, 12, 14, 13,  3, 13,  8,  1, 11,  8,  5,  9, \n",
            " 0,  0,  0,  0,  0,  0,  5, 11,  1, 10,  4, 12,  2, 13,  1, 15,  7,  2,  4, 10,  3,  5,  8,  6,  4,  5,  4,  0,  8, 12, 14, 13,  3,  6,  8,  5, 14,  0,  5,  4, \n",
            "\n",
            "~ ~ ~  loss_std:0.0518 acc_std:0.0112  ~ ~ ~\n",
            "Timing\n",
            "0.004911 data loading\n",
            "0.010766 forward+loss\n",
            "0.020149 backward+remaining\n",
            "\n",
            "id: 29700: loss: 0.543 accuracy: 0.72\n",
            "\n",
            "accuracy: 0.715 raw_acc: 0.818 with factor 0.87     - sample: acc:0.88 _ 35 correct\n",
            " 0,  0,  9,  1,  7,  5,  5,  3, 13,  2,  9, 12, 10,  2,  5, 13,  1,  7,  5,  5,  7,  6,  2,  8, 13,  7, 11, 15, 14,  1, 10, 13,  1,  7, 11,  1, 10,  5,  0,  7, \n",
            " 0,  0,  7,  1, 11, 11,  5,  3, 13,  2,  9, 12, 10,  2,  5, 13,  1,  2,  5,  5,  7,  6,  4,  8, 13,  7, 11, 15, 14,  1, 10, 13,  1,  7, 11,  1, 10,  5,  0,  7, \n",
            "\n",
            "~ ~ ~  loss_std:0.0529 acc_std:0.0116  ~ ~ ~\n",
            "\n",
            "accuracy: 0.698 raw_acc: 0.798 with factor 0.87     - sample: acc:0.82 _ 33 correct\n",
            " 0,  0,  0,  0,  6,  3,  6,  1,  1,  6,  4,  3,  4, 14,  6, 13,  2,  1,  4, 14,  1, 13,  8,  2,  8, 14,  4, 13, 10,  1,  6, 13, 13, 11,  5,  3,  9, 10,  1,  3, \n",
            " 0,  0,  0,  0,  0,  3,  6,  1,  1,  6,  8,  3,  4, 14,  6, 13,  2, 14,  4, 14,  1, 13,  8,  2,  8,  1,  4, 13, 10,  1,  6, 13, 13, 14,  5,  3,  9,  0,  1,  9, \n",
            "\n",
            "~ ~ ~  loss_std:0.0427 acc_std:0.0095  ~ ~ ~\n",
            "Timing\n",
            "0.005119 data loading\n",
            "0.009833 forward+loss\n",
            "0.020323 backward+remaining\n",
            "\n",
            "id: 29800: loss: 0.563 accuracy: 0.72\n",
            "\n",
            "accuracy: 0.165 raw_acc: 0.188 with factor 0.87     - sample: acc:0.30 _ 12 correct\n",
            " 0,  0,  0,  0,  0,  6, 10,  5, 12, 12,  5,  4, 15,  4, 13,  7,  0,  6,  3,  7,  4,  0, 10,  1,  7,  0,  4,  9, 14, 14, 11,  8,  8,  4,  5,  0, 15,  3,  8, 10, \n",
            " 0,  0,  0,  0,  0,  6, 12, 12, 12,  8, 12,  6,  2, 12,  0, 12,  0,  0,  0, 14,  0,  0, 12, 12,  8,  0, 12, 12,  0,  6, 15,  2,  8,  6,  8,  0,  8,  0,  0,  6, \n",
            "\n",
            "~ ~ ~  loss_std:0.8303 acc_std:0.5363  ~ ~ ~\n",
            "\n",
            "accuracy: 0.258 raw_acc: 0.295 with factor 0.87     - sample: acc:0.38 _ 15 correct\n",
            " 0,  0,  0,  0,  0,  0,  2, 10,  3, 13,  6,  4,  9,  9, 10,  9,  9, 10, 11,  0,  1, 15,  1,  0,  3,  1,  2,  0, 10,  5,  6,  8,  2,  7,  3, 15, 15,  9,  7,  6, \n",
            " 0,  0,  0,  0,  0,  0,  2, 11,  3, 13,  6,  4, 15,  9, 15, 14,  0,  0,  0,  9,  0,  2,  9,  1,  0,  1, 14, 15,  0, 13, 13,  0,  0, 13,  0,  7, 15,  9, 13,  0, \n",
            "\n",
            "~ ~ ~  loss_std:0.0617 acc_std:0.2001  ~ ~ ~\n",
            "Timing\n",
            "0.004940 data loading\n",
            "0.009458 forward+loss\n",
            "0.020157 backward+remaining\n",
            "\n",
            "id: 29900: loss: 2.062 accuracy: 0.28\n",
            "\n",
            "accuracy: 0.292 raw_acc: 0.335 with factor 0.87     - sample: acc:0.35 _ 14 correct\n",
            " 0,  0,  0,  0,  0,  6,  8, 15,  1,  3,  7,  6, 11, 13,  2,  4,  5,  6,  4,  2, 14, 10,  1,  7, 11, 10, 11, 13, 13,  5, 12, 14,  8, 12,  2,  6,  1, 11,  7, 13, \n",
            " 0,  0,  0,  0,  0,  0,  8, 15,  1,  1,  7,  6,  7, 14,  2, 11,  7, 12,  0,  9,  7, 10, 12, 13,  0, 10, 12,  9, 12,  4, 13, 11,  9, 12,  0, 12,  7,  4,  4,  4, \n",
            "\n",
            "~ ~ ~  loss_std:0.0170 acc_std:0.0357  ~ ~ ~\n"
          ]
        }
      ],
      "source": [
        "# from itertools import product\n",
        "from itertools import chain, tee\n",
        "\n",
        "experiment_counter = 0\n",
        "for hp_n_latent, hp_n_step in chain(\n",
        "    loop_over_extremum(exp_cfg.n_latent, exp_cfg.n_step, corner=True,  edge=False),\n",
        "    loop_over_extremum(exp_cfg.n_latent, exp_cfg.n_step, corner=False, edge=True),\n",
        "    ):\n",
        "    experiment_counter += 1\n",
        "    # if experiment_counter<21:\n",
        "    #     continue\n",
        "    # if hp_n_latent>5:\n",
        "    #     break\n",
        "    # if hp_n_step!=1:\n",
        "    #     continue\n",
        "\n",
        "    read_step = hp_n_step - 1 # remove on output step\n",
        "    # if read_step<1:\n",
        "    #     continue\n",
        "\n",
        "    # make model\n",
        "    model = ToyThinker(**model_cfg.__dict__).to(device)\n",
        "    # model = torch.compile(model)\n",
        "\n",
        "    # init tracker\n",
        "    loss_tracker = []\n",
        "    acc_tracker = []\n",
        "    match_counter = MatchCount(20+1+20)\n",
        "    best_loss = float('inf')\n",
        "\n",
        "    # init optimizer\n",
        "    optimizer = torch.optim.Adam(model.parameters(), lr=run_cfg.learning_rate)\n",
        "    scheduler = torch.optim.lr_scheduler.CosineAnnealingLR(optimizer, T_max=50, eta_min=0.0005, verbose=True)\n",
        "\n",
        "    # init dataset/loader\n",
        "    data_cfg.batch = run_cfg.batch\n",
        "    # dataset = NumbersComputeDataset(data_cfg)\n",
        "    dataset = NumbersCopyDataset(**data_cfg.__dict__)\n",
        "\n",
        "    batch_size = 1 # 1024\n",
        "    # dataloader = DataLoader(dataset, batch_size=batch_size, num_workers=4, pin_memory=True)\n",
        "    NumbersCopyDataset.reset()\n",
        "\n",
        "    # reset before train\n",
        "    optimizer.zero_grad()\n",
        "    model.train()\n",
        "\n",
        "    from time import time\n",
        "    start_time = time()\n",
        "    # for idx, (inputs,targets) in enumerate(dataloader):\n",
        "    for idx, (inputs,targets) in enumerate(chain(*tee(dataset, 2))): # mini data loader :-)\n",
        "        end_dataloading_time = time()\n",
        "        # inputs,targets = inputs.to(device), targets.to(device)\n",
        "        inputs,targets = inputs.to(device, non_blocking=True), targets.to(device, non_blocking=True)\n",
        "        # inputs,targets = inputs[0].to(device, non_blocking=True), targets[0].to(device, non_blocking=True)\n",
        "        batch_size = inputs.size(0)\n",
        "\n",
        "        n_latent = CfgNode.sample_(hp_n_latent)\n",
        "        n_step   = CfgNode.sample_(hp_n_step)\n",
        "\n",
        "        #### Toy model\n",
        "        # with torch.autocast(device_type=\"cpu\", dtype=torch.bfloat16):\n",
        "        n_target = targets.size(1)\n",
        "        logits, output_probe = model(inputs, n_latent, n_target, n_step, read_step) # n_keep_output=1, n_memory=1e4\n",
        "\n",
        "        # compute loss\n",
        "        logits, output_probe = logits[:,0,:,:], output_probe[:,0,:,0] # .permute(0,-1,1,2) or (0,3,1,2)\n",
        "        output_loss = torch.nn.functional.cross_entropy(logits.permute(0,2,1), targets.long())#, ignore_index=20)\n",
        "        # probe_loss = torch.nn.functional.mse_loss(output_probe, targets.float()/2)\n",
        "        end_forward_loss_time = time()\n",
        "\n",
        "        # various training observers and controls\n",
        "        accuracy = (targets == torch.argmax(logits, dim=2)).float().mean().item()\n",
        "        match_counter.update(logits, targets)\n",
        "\n",
        "        # curriculum learning\n",
        "        NumbersCopyDataset.update_accuracy(accuracy)\n",
        "        factor =  NumbersCopyDataset.get_challenge_factor()\n",
        "        NumbersCopyDataset.raw_acc = accuracy\n",
        "        raw_acc = accuracy\n",
        "        accuracy = accuracy * factor\n",
        "        if idx%51==0:\n",
        "            s = np.random.randint(targets.size(0))\n",
        "            correct = (targets[s,:] == torch.argmax(logits[s,:], dim=1)) #[:break_i]\n",
        "            print()\n",
        "            print(\"accuracy: %.3f raw_acc: %.3f with factor %.2f     - sample: acc:%.2f _ %d correct\" % (accuracy, raw_acc, factor, correct.float().mean(), correct.sum(),))\n",
        "            for i in range(targets.size(1)):\n",
        "                val = targets[s,i].item()\n",
        "                print(f\"{val:2d}\", end=', ')\n",
        "                # if val == 20: break\n",
        "            print()\n",
        "            for j in range(i+1):\n",
        "                val = torch.argmax(logits[s,j]).item()\n",
        "                print(f\"{val:2d}\", end=', ')\n",
        "            print()\n",
        "            # for j in range(i+1):\n",
        "            #     val = outputs_probe[s,j].item()*16\n",
        "            #     print(f\"{val:.2f}\", end=', ')\n",
        "            # print()\n",
        "\n",
        "\n",
        "        # (output_loss + probe_loss).backward()\n",
        "        output_loss.backward()\n",
        "\n",
        "        if idx%1==0:\n",
        "            torch.nn.utils.clip_grad_norm_(model.parameters(), 0.5)\n",
        "            optimizer.step()\n",
        "            optimizer.zero_grad()\n",
        "            # scheduler.step()\n",
        "        if idx%100==0:\n",
        "            # print(f\"{idx} :: loss: {output_loss.item():.4f}, n_step: {n_step}, latent_size: {latent_size}\")\n",
        "            print(f\"id: {idx:3d}: loss: {output_loss.item():.3f} accuracy: {accuracy:.2f}\")\n",
        "\n",
        "        std = dict()\n",
        "        if idx%51==0:\n",
        "            loss_std = np.std(loss_tracker[-50:]) / np.mean(loss_tracker[-50:])\n",
        "            acc_std  = np.std(acc_tracker[-50:])  / np.mean(acc_tracker[-50:])\n",
        "            std = dict(loss_std=loss_std, acc_std=acc_std)\n",
        "            print(f\"\\n~ ~ ~  loss_std:{loss_std:.4f} acc_std:{acc_std:.4f}  ~ ~ ~\")\n",
        "            # if loss_std>0.1:\n",
        "            #     scheduler.step()\n",
        "\n",
        "        # loss_tracker.append(outputs_probe_loss.item())\n",
        "        loss_tracker.append(output_loss.item())\n",
        "        acc_tracker.append(accuracy)\n",
        "        logs.append(dict(\n",
        "            loss = output_loss.item(),\n",
        "            # probe_loss = probe_loss.item(),\n",
        "            accuracy = accuracy,\n",
        "            latent = n_latent,\n",
        "            step = n_step,\n",
        "            iteration = idx,\n",
        "            experiment = experiment_counter,\n",
        "            factor = factor,\n",
        "            raw_acc = raw_acc,\n",
        "            **std\n",
        "        ))\n",
        "\n",
        "        if idx%400==0 and idx>=100:\n",
        "            from IPython.display import clear_output\n",
        "            clear_output()\n",
        "\n",
        "            print(f\"exp:{experiment_counter}, n_latent:{n_latent}, n_step:{n_step}\")\n",
        "            plot_loss_and_accuracy(logs, y_log=True)\n",
        "            # plot_hp_heatmap(logs, aggr='max')\n",
        "            plt.show()\n",
        "\n",
        "            # with open('./train_param.txt','r') as f:\n",
        "            #     lr = float(f.read())*learing_rate\n",
        "\n",
        "            # print('========== learing_rate:', lr)\n",
        "            # for param_group in optimizer.param_groups:\n",
        "            #     param_group['lr'] = lr\n",
        "\n",
        "            print('learning_rate', optimizer.param_groups[0]['lr'])\n",
        "            print(match_counter,'\\n')\n",
        "            match_counter = MatchCount(20+1+20)\n",
        "\n",
        "            mean = np.mean(loss_tracker[-50:])\n",
        "            mean_prev = np.mean(loss_tracker[-100:-50])\n",
        "            print(f'averaged loss -> mean_prev:{mean_prev:.4f} mean:{mean:.4f}')\n",
        "\n",
        "        # if idx%100==0 and idx>=100:\n",
        "        #     mean_loss = np.mean(loss_tracker[-100:])\n",
        "        #     if mean_loss < best_loss:\n",
        "        #         best_loss = mean_loss\n",
        "        #         torch.save(model.state_dict(), \"model.pt\")\n",
        "        #         print(f'save best model mean_loss={mean_loss:.4f}')\n",
        "        #     # scheduler.step()\n",
        "\n",
        "        # if idx%200==0 and idx>=200:\n",
        "        #     mean_loss = np.mean(loss_tracker[-200:])\n",
        "        #     if mean_loss > best_loss:\n",
        "        #         print('loss increase, load best model')\n",
        "        #         model.load_state_dict(torch.load(\"model.pt\"))\n",
        "        #         # scheduler.step()\n",
        "\n",
        "        # if idx>=200 and (loss_tracker[-1]/loss_tracker[-10])>1.5:\n",
        "        #     print('loss peak increase, load best model')\n",
        "        #     model.load_state_dict(torch.load(\"model.pt\"))\n",
        "        #     # scheduler.step()\n",
        "\n",
        "        if idx%101==0:\n",
        "            print(f\"Timing\\n\"\n",
        "                f\"{end_dataloading_time-start_time:.6f} data loading\\n\"\n",
        "                f\"{end_forward_loss_time-end_dataloading_time:.6f} forward+loss\\n\"\n",
        "                f\"{time()-end_forward_loss_time:.6f} backward+remaining\\n\"\n",
        "            )\n",
        "            # !nvidia-smi\n",
        "\n",
        "        if idx>run_cfg.max_iter:\n",
        "            break\n",
        "        start_time = time()\n"
      ]
    },
    {
      "cell_type": "code",
      "execution_count": null,
      "metadata": {
        "id": "uAs9eyR7QxSZ"
      },
      "outputs": [],
      "source": [
        "import pandas as pd\n",
        "\n",
        "df = pd.DataFrame(logs)\n",
        "# df.to_csv('logs-copy-hdim16-9k_param-20Dec.csv', index=0)"
      ]
    },
    {
      "cell_type": "code",
      "execution_count": null,
      "metadata": {
        "id": "opTRV_BsbcbR"
      },
      "outputs": [],
      "source": [
        "df.columns"
      ]
    },
    {
      "cell_type": "code",
      "execution_count": null,
      "metadata": {
        "id": "H-3KvsNyxdyW"
      },
      "outputs": [],
      "source": [
        "# @title\n",
        "import pandas as pd\n",
        "import seaborn as sns\n",
        "\n",
        "def plot_loss_and_accuracy(logs, experiment=None, title=None):\n",
        "    # Create a DataFrame from the list of dictionaries.\n",
        "    if isinstance(logs, pd.DataFrame): df = logs\n",
        "    else: df = pd.DataFrame(logs)\n",
        "\n",
        "    # Filter current experiment\n",
        "    if 'experiment' in df.columns:\n",
        "        if experiment == None:\n",
        "            experiment = df.iloc[-1].experiment\n",
        "        df = df[df.experiment == experiment]\n",
        "\n",
        "    # Plot the loss values on the left y-axis.\n",
        "    sns.lineplot(data=df, x='iteration', y='loss', color='orange') #, hue='step')\n",
        "    # sns.lineplot(data=df, x='iteration', y='probe_loss', color='peru') #, hue='step')\n",
        "    plt.ylabel('Loss')\n",
        "    # plt.yscale('log',base=2)\n",
        "\n",
        "    # Plot the accuracy values on the right y-axis.\n",
        "    plt.twinx()\n",
        "    sns.lineplot(data=df, x='iteration', y='accuracy', color='purple') #, hue='latent')\n",
        "    plt.ylabel('Accuracy')\n",
        "\n",
        "    # Set the title of the plot.\n",
        "    if title: plt.title(title)\n",
        "    else: plt.title('Loss and Accuracy')\n",
        "    plt.xlabel('Step')\n",
        "\n",
        "\n",
        "    # Set the width of the plot.\n",
        "    plt.gcf().set_size_inches(12, 4)\n",
        "\n",
        "    # Show the plot.\n",
        "    plt.show()\n",
        "\n",
        "    #plot_hp_heatmap(logs)\n",
        "\n",
        "def plot_hp_heatmap(logs, use_last_n_batch=200, aggr='max'):\n",
        "    if isinstance(logs, pd.DataFrame): df = logs\n",
        "    else: df = pd.DataFrame(logs)\n",
        "\n",
        "    if len(df)<use_last_n_batch: return\n",
        "\n",
        "    # Group the data by the latent and step columns.\n",
        "    # df = df[-use_last_n_batch:].groupby(['latent', 'step'])\n",
        "    df = df.groupby(['latent', 'step'])\n",
        "    if aggr=='mean':\n",
        "        df = df.mean()\n",
        "    elif aggr=='max':\n",
        "        df = df.max()\n",
        "    else:\n",
        "        assert f'Invalid argument aggr={aggr}'\n",
        "    df = df.reset_index().pivot(index=\"latent\", columns=\"step\", values=\"accuracy\")\n",
        "\n",
        "    # if len(df)<2: return #not interresting\n",
        "    # print('i')\n",
        "\n",
        "    # Plot a heatmap of the average loss.\n",
        "    sns.heatmap(df, annot=True)\n",
        "\n",
        "    # Show the plot.\n",
        "    plt.show()\n",
        "\n",
        "\n",
        "for exp_id in df.experiment.unique():\n",
        "    df_exp = df[df.experiment==exp_id]\n",
        "    step, latent = df_exp.iloc[0].step, df_exp.iloc[0].latent\n",
        "    title = f\"Loss and Accuracy w/ hyperparam = step: {step:.0f} | latent: {latent:.0f}\"\n",
        "    plot_loss_and_accuracy(df_exp, None, title=title)\n",
        "\n",
        "# plot_hp_heatmap(df, aggr='max')"
      ]
    },
    {
      "cell_type": "code",
      "execution_count": null,
      "metadata": {
        "id": "hkMPrzWut0N6"
      },
      "outputs": [],
      "source": [
        "def compare_experiments(logs):\n",
        "    if isinstance(logs, pd.DataFrame): df = logs\n",
        "    else: df = pd.DataFrame(logs)\n",
        "\n",
        "    unique_experiments = df.experiment.unique()\n",
        "    num_experiments = len(unique_experiments)\n",
        "\n",
        "    fig = plt.figure(figsize=(25, 15))\n",
        "\n",
        "    # Create a 2x2 grid with the heatmap at the center\n",
        "    grid = GridSpec(5, 4, figure=fig)\n",
        "    heatmap_ax = plt.subplot(grid[1:-1, 1:-1])\n",
        "    plot_hp_heatmap(df, aggr='max', ax=heatmap_ax)\n",
        "\n",
        "    for i, exp_id in enumerate(unique_experiments):\n",
        "        df_exp = df[df.experiment == exp_id]\n",
        "        step, latent = int(df_exp.iloc[0].step), int(df_exp.iloc[0].latent)\n",
        "        title = f\"Loss and Accuracy w/ hyperparam = step: {step:.0f} | latent: {latent:.0f}\"\n",
        "        plot_loss_and_accuracy(df_exp, None, title=title, ax=plt.subplot(grid[latent-4, step-1]))\n",
        "\n",
        "\n",
        "    # # Set the figure size for each subplot\n",
        "    # for ax in [heatmap_ax] + loss_accuracy_axs:\n",
        "    #     box = ax.get_position()\n",
        "    #     ax.set_position([box.x0, box.y0, box.width * 0.9, box.height])\n",
        "\n",
        "    # Adjust layout and show the plot\n",
        "    plt.tight_layout()\n",
        "    plt.show()\n",
        "\n"
      ]
    },
    {
      "cell_type": "code",
      "execution_count": null,
      "metadata": {
        "id": "o3YldI48eyiq"
      },
      "outputs": [],
      "source": [
        "\n"
      ]
    },
    {
      "cell_type": "code",
      "execution_count": null,
      "metadata": {
        "id": "QDK3jh1L8kTt"
      },
      "outputs": [],
      "source": [
        "plot_hp_heatmap(logs)"
      ]
    },
    {
      "cell_type": "code",
      "execution_count": null,
      "metadata": {
        "id": "KBggy09NbmfM"
      },
      "outputs": [],
      "source": [
        "logits.shape, logits[:,0,:,:].permute(0,2,1).shape, targets.shape # output_probe.shape"
      ]
    },
    {
      "cell_type": "code",
      "execution_count": null,
      "metadata": {
        "id": "28akP8E2blQV"
      },
      "outputs": [],
      "source": [
        "output_loss = torch.nn.functional.cross_entropy(logits[:,0,:,:].permute(0,-1,1,2), targets.long())"
      ]
    },
    {
      "cell_type": "code",
      "execution_count": null,
      "metadata": {
        "id": "EVehLWWcEn7Y"
      },
      "outputs": [],
      "source": [
        "logits.shape"
      ]
    },
    {
      "cell_type": "code",
      "execution_count": null,
      "metadata": {
        "id": "mHaASp0XElWj"
      },
      "outputs": [],
      "source": [
        "output_probe.shape"
      ]
    },
    {
      "cell_type": "code",
      "execution_count": null,
      "metadata": {
        "id": "MowDxpGs_5ns"
      },
      "outputs": [],
      "source": [
        "# def train(r_cfg, dataset, model):"
      ]
    },
    {
      "cell_type": "code",
      "execution_count": null,
      "metadata": {
        "id": "w8-Jwypv7TTW"
      },
      "outputs": [],
      "source": [
        "data_cfg.batch = run_cfg.batch\n",
        "dataset = NumbersComputeDataset(data_cfg)\n",
        "\n",
        "# dataset = NumbersCopyDataset(low=0, high=16, size=(20,), flip=False, roll=True, sort=False)\n",
        "# dataset = NumbersComputeDataset(TASK_SCHEME)\n",
        "\n",
        "train(run_cfg, dataset, model)"
      ]
    },
    {
      "cell_type": "markdown",
      "metadata": {
        "id": "tgGpoCda-_gs"
      },
      "source": [
        "# end of training"
      ]
    },
    {
      "cell_type": "code",
      "execution_count": null,
      "metadata": {
        "id": "1kKOsahW-n75"
      },
      "outputs": [],
      "source": [
        "import numpy as np\n",
        "from scipy.signal import savgol_filter\n",
        "import matplotlib.pyplot as plt\n",
        "\n",
        "# Generate some sample data similar to your post\n",
        "n = len(loss_tracker)\n",
        "X = np.arange(1,n+1)\n",
        "Y = np.array(acc_tracker)\n",
        "\n",
        "Y2 = savgol_filter(Y, 1000, 3)\n",
        "\n",
        "i = 0 # 10000\n",
        "plt.figure(figsize=(12,5))\n",
        "plt.plot(X[i:],  Y[i:], linestyle='-', linewidth=2,alpha=.5)\n",
        "# plt.plot(X[i:], Y2[i:], color='r')\n",
        "plt.yscale('log',base=10)\n",
        "plt.xscale('log',base=10)\n",
        "plt.gca().invert_xaxis()\n",
        "\n",
        "plt.show()"
      ]
    },
    {
      "cell_type": "code",
      "execution_count": null,
      "metadata": {
        "id": "T-eeCmKMUZYp"
      },
      "outputs": [],
      "source": [
        "import plotly.express as px\n",
        "import plotly.graph_objects as go\n",
        "\n",
        "fig=px.line(x=X,y=Y2, log_y=True)\n",
        "fig.add_scatter(x=X, y=Y, mode='lines')\n",
        "fig.show()"
      ]
    },
    {
      "cell_type": "code",
      "execution_count": null,
      "metadata": {
        "id": "4yWs2GbNU2So"
      },
      "outputs": [],
      "source": []
    }
  ],
  "metadata": {
    "accelerator": "GPU",
    "colab": {
      "provenance": [],
      "toc_visible": true
    },
    "kernelspec": {
      "display_name": "Python 3",
      "name": "python3"
    },
    "language_info": {
      "name": "python"
    }
  },
  "nbformat": 4,
  "nbformat_minor": 0
}